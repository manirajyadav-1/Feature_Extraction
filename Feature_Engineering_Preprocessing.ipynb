{
  "nbformat": 4,
  "nbformat_minor": 0,
  "metadata": {
    "colab": {
      "provenance": []
    },
    "kernelspec": {
      "name": "python3",
      "display_name": "Python 3"
    },
    "language_info": {
      "name": "python"
    }
  },
  "cells": [
    {
      "cell_type": "markdown",
      "source": [
        "**Create a vector (array) of 1XN dimension representing N-\n",
        "dimensional feature vector of a sample. Write a program to\n",
        "compute the mean and variance of the elements present in the\n",
        "array.**"
      ],
      "metadata": {
        "id": "fksFLrQXaq95"
      }
    },
    {
      "cell_type": "code",
      "execution_count": 5,
      "metadata": {
        "colab": {
          "base_uri": "https://localhost:8080/"
        },
        "id": "7OL_Hd53aU1N",
        "outputId": "548738b9-e646-4afb-bafa-9b0226507caa"
      },
      "outputs": [
        {
          "output_type": "stream",
          "name": "stdout",
          "text": [
            "Array: [0.8729557  0.82348192 0.00973007 0.5973235  0.68578075 0.18855425\n",
            " 0.90434428 0.39577165 0.69908683 0.44447764]\n",
            "Mean: 0.5621506596756818\n",
            "Variance: 0.08035350182287501\n",
            "0.08035350182287501\n"
          ]
        }
      ],
      "source": [
        "import numpy as np\n",
        "\n",
        "N = 10\n",
        "\n",
        "array = np.random.rand(N)\n",
        "mean = np.mean(array)\n",
        "\n",
        "# Calculating variance using inbuilt function\n",
        "variance = np.var(array)\n",
        "print(f\"Array: {array}\")\n",
        "print(f\"Mean: {mean}\")\n",
        "print(f\"Variance: {variance}\")\n",
        "\n",
        "\n",
        "# Calculating variance manually\n",
        "v = sum((xi - mean) ** 2 for xi in array) / N\n",
        "print(v)"
      ]
    },
    {
      "cell_type": "markdown",
      "source": [
        "**Create two vectors each of dimension 1XM each representing N-dimensional feature vector of a sample. Write a program to compute the Covariance between them**"
      ],
      "metadata": {
        "id": "2WjM-mAcc6OM"
      }
    },
    {
      "cell_type": "code",
      "source": [
        "import numpy as np\n",
        "M = 10\n",
        "X = np.random.rand(M)\n",
        "Y = np.random.rand(M)\n",
        "mean_X = np.mean(X)\n",
        "mean_Y = np.mean(Y)\n",
        "\n",
        "# Calculate covariance manually\n",
        "covariance = sum((X[i] - mean_X) * (Y[i] - mean_Y) for i in range(M)) / M\n",
        "print(f\"Vector X: {X}\")\n",
        "print(f\"Vector Y: {Y}\")\n",
        "print(f\"Mean of Vector X: {mean_X}\")\n",
        "print(f\"Mean of Vector Y: {mean_Y}\")\n",
        "print(f\"Covariance: {covariance}\")\n",
        "\n",
        "# Calculate covariance using inbuilt function\n",
        "covariance_matrix = np.cov(X, Y, ddof=0)\n",
        "covx = covariance_matrix[0, 1]\n",
        "print(covx)\n"
      ],
      "metadata": {
        "colab": {
          "base_uri": "https://localhost:8080/"
        },
        "id": "IhO5T-_KfDhv",
        "outputId": "90a213f5-aa9c-4df1-9ddb-345db55788cc"
      },
      "execution_count": 9,
      "outputs": [
        {
          "output_type": "stream",
          "name": "stdout",
          "text": [
            "Vector X: [0.20728054 0.31062779 0.93661996 0.15628231 0.94443099 0.09648614\n",
            " 0.74653493 0.63621664 0.06921235 0.2655974 ]\n",
            "Vector Y: [0.3595398  0.06249299 0.19657154 0.28599933 0.54972103 0.23824417\n",
            " 0.96548648 0.86671863 0.92212632 0.05763952]\n",
            "Mean of Vector X: 0.4369289067564006\n",
            "Mean of Vector Y: 0.4504539805298597\n",
            "Covariance: 0.024806595182602996\n",
            "0.024806595182603\n"
          ]
        }
      ]
    },
    {
      "cell_type": "markdown",
      "source": [
        "**Create two vectors each of dimension 1XN. Write a program to\n",
        "compute the Correlation between them.**"
      ],
      "metadata": {
        "id": "PULMGgmHgsCf"
      }
    },
    {
      "cell_type": "code",
      "source": [
        "import numpy as np\n",
        "N = 10\n",
        "X = np.random.rand(N)\n",
        "Y = np.random.rand(N)\n",
        "correlation_matrix = np.corrcoef(X, Y, ddof=0)\n",
        "\n",
        "# Extracting the correlation value\n",
        "correlation = correlation_matrix[0, 1]\n",
        "print(f\"Vector X: {X}\")\n",
        "print(f\"Vector Y: {Y}\")\n",
        "print(f\"Correlation: {correlation}\")\n"
      ],
      "metadata": {
        "colab": {
          "base_uri": "https://localhost:8080/"
        },
        "id": "ikMOEOwof86V",
        "outputId": "e92fa4b1-cc46-4b80-fe77-b1fd29a9b6f2"
      },
      "execution_count": 11,
      "outputs": [
        {
          "output_type": "stream",
          "name": "stdout",
          "text": [
            "Vector X: [0.34526451 0.57896922 0.54966533 0.00147465 0.10017747 0.49909816\n",
            " 0.64698244 0.10005508 0.04542018 0.81759447]\n",
            "Vector Y: [0.12195249 0.7186607  0.02881136 0.53556823 0.66242141 0.62751573\n",
            " 0.13770912 0.45471851 0.37836266 0.6311779 ]\n",
            "Correlation: -0.09278431268385326\n"
          ]
        },
        {
          "output_type": "stream",
          "name": "stderr",
          "text": [
            "<ipython-input-11-79593cfce575>:5: DeprecationWarning: bias and ddof have no effect and are deprecated\n",
            "  correlation_matrix = np.corrcoef(X, Y, ddof=0)\n"
          ]
        }
      ]
    },
    {
      "cell_type": "markdown",
      "source": [
        "**Create a Matrix of MXN dimension representing the M-dimensional feature vector for N number of samples i.e. (i,j)th entry of the matrix represents the ith feature of jth sample. Write a program to compute the covariance matrix and correlation matrix. Comment on takeaways from these matrixes.**"
      ],
      "metadata": {
        "id": "wcJOzJv8hkrh"
      }
    },
    {
      "cell_type": "code",
      "source": [
        "import numpy as np\n",
        "\n",
        "# Number of features\n",
        "M = 4\n",
        "# Number of samples\n",
        "N = 10\n",
        "\n",
        "matrix = np.random.rand(M, N)\n",
        "covariance_matrix = np.cov(matrix, rowvar=True, bias=True)\n",
        "correlation_matrix = np.corrcoef(matrix)\n",
        "print(\"Matrix (M x N):\")\n",
        "print(matrix)\n",
        "print(\"\\nCovariance Matrix:\")\n",
        "print(covariance_matrix)\n",
        "print(\"\\nCorrelation Matrix:\")\n",
        "print(correlation_matrix)\n"
      ],
      "metadata": {
        "colab": {
          "base_uri": "https://localhost:8080/"
        },
        "id": "OYP_bnQohTHx",
        "outputId": "bc6be13f-236c-490a-95e9-7590e43ad2fd"
      },
      "execution_count": 12,
      "outputs": [
        {
          "output_type": "stream",
          "name": "stdout",
          "text": [
            "Matrix (M x N):\n",
            "[[0.07729985 0.07112803 0.76876449 0.74396861 0.88670326 0.31269586\n",
            "  0.39949291 0.90603006 0.40130098 0.53544034]\n",
            " [0.9795206  0.50376851 0.16976271 0.17546991 0.16920936 0.05687236\n",
            "  0.2906726  0.53152759 0.82295436 0.33840413]\n",
            " [0.42890329 0.21922583 0.65668699 0.26878388 0.0702294  0.09505958\n",
            "  0.22346594 0.71041262 0.36810615 0.79600907]\n",
            " [0.99854207 0.88221396 0.30839351 0.18897282 0.89882287 0.36146964\n",
            "  0.38722519 0.52299528 0.57823803 0.05024114]]\n",
            "\n",
            "Covariance Matrix:\n",
            "[[ 0.08638862 -0.04110312  0.01945201 -0.03266705]\n",
            " [-0.04110312  0.08328267  0.0171964   0.04734885]\n",
            " [ 0.01945201  0.0171964   0.06010578 -0.03030008]\n",
            " [-0.03266705  0.04734885 -0.03030008  0.09248472]]\n",
            "\n",
            "Correlation Matrix:\n",
            "[[ 1.         -0.48458421  0.26994679 -0.36546572]\n",
            " [-0.48458421  1.          0.24305368  0.53950704]\n",
            " [ 0.26994679  0.24305368  1.         -0.40639715]\n",
            " [-0.36546572  0.53950704 -0.40639715  1.        ]]\n"
          ]
        }
      ]
    },
    {
      "cell_type": "code",
      "source": [],
      "metadata": {
        "id": "nRDLoy68h9Qd"
      },
      "execution_count": null,
      "outputs": []
    }
  ]
}